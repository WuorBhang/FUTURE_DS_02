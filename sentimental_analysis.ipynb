{
  "cells": [
    {
      "cell_type": "code",
      "execution_count": 39,
      "metadata": {
        "colab": {
          "base_uri": "https://localhost:8080/",
          "height": 73
        },
        "id": "CbNJ8y2QEKhb",
        "outputId": "ef77ba1a-e118-475e-a495-d9e337c2d437"
      },
      "outputs": [
        {
          "output_type": "display_data",
          "data": {
            "text/plain": [
              "<IPython.core.display.HTML object>"
            ],
            "text/html": [
              "\n",
              "     <input type=\"file\" id=\"files-d44e9077-dbc0-4112-a1db-4a6b4d51864b\" name=\"files[]\" multiple disabled\n",
              "        style=\"border:none\" />\n",
              "     <output id=\"result-d44e9077-dbc0-4112-a1db-4a6b4d51864b\">\n",
              "      Upload widget is only available when the cell has been executed in the\n",
              "      current browser session. Please rerun this cell to enable.\n",
              "      </output>\n",
              "      <script>// Copyright 2017 Google LLC\n",
              "//\n",
              "// Licensed under the Apache License, Version 2.0 (the \"License\");\n",
              "// you may not use this file except in compliance with the License.\n",
              "// You may obtain a copy of the License at\n",
              "//\n",
              "//      http://www.apache.org/licenses/LICENSE-2.0\n",
              "//\n",
              "// Unless required by applicable law or agreed to in writing, software\n",
              "// distributed under the License is distributed on an \"AS IS\" BASIS,\n",
              "// WITHOUT WARRANTIES OR CONDITIONS OF ANY KIND, either express or implied.\n",
              "// See the License for the specific language governing permissions and\n",
              "// limitations under the License.\n",
              "\n",
              "/**\n",
              " * @fileoverview Helpers for google.colab Python module.\n",
              " */\n",
              "(function(scope) {\n",
              "function span(text, styleAttributes = {}) {\n",
              "  const element = document.createElement('span');\n",
              "  element.textContent = text;\n",
              "  for (const key of Object.keys(styleAttributes)) {\n",
              "    element.style[key] = styleAttributes[key];\n",
              "  }\n",
              "  return element;\n",
              "}\n",
              "\n",
              "// Max number of bytes which will be uploaded at a time.\n",
              "const MAX_PAYLOAD_SIZE = 100 * 1024;\n",
              "\n",
              "function _uploadFiles(inputId, outputId) {\n",
              "  const steps = uploadFilesStep(inputId, outputId);\n",
              "  const outputElement = document.getElementById(outputId);\n",
              "  // Cache steps on the outputElement to make it available for the next call\n",
              "  // to uploadFilesContinue from Python.\n",
              "  outputElement.steps = steps;\n",
              "\n",
              "  return _uploadFilesContinue(outputId);\n",
              "}\n",
              "\n",
              "// This is roughly an async generator (not supported in the browser yet),\n",
              "// where there are multiple asynchronous steps and the Python side is going\n",
              "// to poll for completion of each step.\n",
              "// This uses a Promise to block the python side on completion of each step,\n",
              "// then passes the result of the previous step as the input to the next step.\n",
              "function _uploadFilesContinue(outputId) {\n",
              "  const outputElement = document.getElementById(outputId);\n",
              "  const steps = outputElement.steps;\n",
              "\n",
              "  const next = steps.next(outputElement.lastPromiseValue);\n",
              "  return Promise.resolve(next.value.promise).then((value) => {\n",
              "    // Cache the last promise value to make it available to the next\n",
              "    // step of the generator.\n",
              "    outputElement.lastPromiseValue = value;\n",
              "    return next.value.response;\n",
              "  });\n",
              "}\n",
              "\n",
              "/**\n",
              " * Generator function which is called between each async step of the upload\n",
              " * process.\n",
              " * @param {string} inputId Element ID of the input file picker element.\n",
              " * @param {string} outputId Element ID of the output display.\n",
              " * @return {!Iterable<!Object>} Iterable of next steps.\n",
              " */\n",
              "function* uploadFilesStep(inputId, outputId) {\n",
              "  const inputElement = document.getElementById(inputId);\n",
              "  inputElement.disabled = false;\n",
              "\n",
              "  const outputElement = document.getElementById(outputId);\n",
              "  outputElement.innerHTML = '';\n",
              "\n",
              "  const pickedPromise = new Promise((resolve) => {\n",
              "    inputElement.addEventListener('change', (e) => {\n",
              "      resolve(e.target.files);\n",
              "    });\n",
              "  });\n",
              "\n",
              "  const cancel = document.createElement('button');\n",
              "  inputElement.parentElement.appendChild(cancel);\n",
              "  cancel.textContent = 'Cancel upload';\n",
              "  const cancelPromise = new Promise((resolve) => {\n",
              "    cancel.onclick = () => {\n",
              "      resolve(null);\n",
              "    };\n",
              "  });\n",
              "\n",
              "  // Wait for the user to pick the files.\n",
              "  const files = yield {\n",
              "    promise: Promise.race([pickedPromise, cancelPromise]),\n",
              "    response: {\n",
              "      action: 'starting',\n",
              "    }\n",
              "  };\n",
              "\n",
              "  cancel.remove();\n",
              "\n",
              "  // Disable the input element since further picks are not allowed.\n",
              "  inputElement.disabled = true;\n",
              "\n",
              "  if (!files) {\n",
              "    return {\n",
              "      response: {\n",
              "        action: 'complete',\n",
              "      }\n",
              "    };\n",
              "  }\n",
              "\n",
              "  for (const file of files) {\n",
              "    const li = document.createElement('li');\n",
              "    li.append(span(file.name, {fontWeight: 'bold'}));\n",
              "    li.append(span(\n",
              "        `(${file.type || 'n/a'}) - ${file.size} bytes, ` +\n",
              "        `last modified: ${\n",
              "            file.lastModifiedDate ? file.lastModifiedDate.toLocaleDateString() :\n",
              "                                    'n/a'} - `));\n",
              "    const percent = span('0% done');\n",
              "    li.appendChild(percent);\n",
              "\n",
              "    outputElement.appendChild(li);\n",
              "\n",
              "    const fileDataPromise = new Promise((resolve) => {\n",
              "      const reader = new FileReader();\n",
              "      reader.onload = (e) => {\n",
              "        resolve(e.target.result);\n",
              "      };\n",
              "      reader.readAsArrayBuffer(file);\n",
              "    });\n",
              "    // Wait for the data to be ready.\n",
              "    let fileData = yield {\n",
              "      promise: fileDataPromise,\n",
              "      response: {\n",
              "        action: 'continue',\n",
              "      }\n",
              "    };\n",
              "\n",
              "    // Use a chunked sending to avoid message size limits. See b/62115660.\n",
              "    let position = 0;\n",
              "    do {\n",
              "      const length = Math.min(fileData.byteLength - position, MAX_PAYLOAD_SIZE);\n",
              "      const chunk = new Uint8Array(fileData, position, length);\n",
              "      position += length;\n",
              "\n",
              "      const base64 = btoa(String.fromCharCode.apply(null, chunk));\n",
              "      yield {\n",
              "        response: {\n",
              "          action: 'append',\n",
              "          file: file.name,\n",
              "          data: base64,\n",
              "        },\n",
              "      };\n",
              "\n",
              "      let percentDone = fileData.byteLength === 0 ?\n",
              "          100 :\n",
              "          Math.round((position / fileData.byteLength) * 100);\n",
              "      percent.textContent = `${percentDone}% done`;\n",
              "\n",
              "    } while (position < fileData.byteLength);\n",
              "  }\n",
              "\n",
              "  // All done.\n",
              "  yield {\n",
              "    response: {\n",
              "      action: 'complete',\n",
              "    }\n",
              "  };\n",
              "}\n",
              "\n",
              "scope.google = scope.google || {};\n",
              "scope.google.colab = scope.google.colab || {};\n",
              "scope.google.colab._files = {\n",
              "  _uploadFiles,\n",
              "  _uploadFilesContinue,\n",
              "};\n",
              "})(self);\n",
              "</script> "
            ]
          },
          "metadata": {}
        },
        {
          "output_type": "stream",
          "name": "stdout",
          "text": [
            "Saving sentiment.csv to sentiment (2).csv\n"
          ]
        }
      ],
      "source": [
        "from google.colab import files\n",
        "uploaded = files.upload()"
      ]
    },
    {
      "cell_type": "code",
      "execution_count": 40,
      "metadata": {
        "id": "oOS-tMdeJnLV"
      },
      "outputs": [],
      "source": [
        "# Data Handling\n",
        "import pandas as pd\n",
        "import numpy as np\n",
        "\n",
        "# Natural Language Processing (NLP)\n",
        "import nltk\n",
        "from nltk.corpus import stopwords\n",
        "from nltk.tokenize import word_tokenize\n",
        "from textblob import TextBlob\n",
        "from wordcloud import WordCloud\n",
        "\n",
        "# Data Visualization\n",
        "import matplotlib.pyplot as plt\n",
        "import seaborn as sns\n",
        "import plotly.express as px\n",
        "\n",
        "# Power BI Integration\n",
        "import openpyxl  # For saving data in Excel format (for Power BI)"
      ]
    },
    {
      "cell_type": "code",
      "execution_count": 41,
      "metadata": {
        "colab": {
          "base_uri": "https://localhost:8080/",
          "height": 328
        },
        "id": "t54Nkr0GFHXj",
        "outputId": "63457e68-a466-4238-fe7f-63592bd11b7b"
      },
      "outputs": [
        {
          "output_type": "execute_result",
          "data": {
            "text/plain": [
              "   Unnamed: 0.1  Unnamed: 0  \\\n",
              "0             0           0   \n",
              "1             1           1   \n",
              "2             2           2   \n",
              "3             3           3   \n",
              "4             4           4   \n",
              "\n",
              "                                                Text    Sentiment  \\\n",
              "0   Enjoying a beautiful day at the park!        ...   Positive     \n",
              "1   Traffic was terrible this morning.           ...   Negative     \n",
              "2   Just finished an amazing workout! 💪          ...   Positive     \n",
              "3   Excited about the upcoming weekend getaway!  ...   Positive     \n",
              "4   Trying out a new recipe for dinner tonight.  ...   Neutral      \n",
              "\n",
              "             Timestamp            User     Platform  \\\n",
              "0  2023-01-15 12:30:00   User123          Twitter     \n",
              "1  2023-01-15 08:45:00   CommuterX        Twitter     \n",
              "2  2023-01-15 15:45:00   FitnessFan      Instagram    \n",
              "3  2023-01-15 18:20:00   AdventureX       Facebook    \n",
              "4  2023-01-15 19:55:00   ChefCook        Instagram    \n",
              "\n",
              "                                     Hashtags  Retweets  Likes       Country  \\\n",
              "0   #Nature #Park                                  15.0   30.0     USA         \n",
              "1   #Traffic #Morning                               5.0   10.0     Canada      \n",
              "2   #Fitness #Workout                              20.0   40.0   USA           \n",
              "3   #Travel #Adventure                              8.0   15.0     UK          \n",
              "4   #Cooking #Food                                 12.0   25.0    Australia    \n",
              "\n",
              "   Year  Month  Day  Hour  \n",
              "0  2023      1   15    12  \n",
              "1  2023      1   15     8  \n",
              "2  2023      1   15    15  \n",
              "3  2023      1   15    18  \n",
              "4  2023      1   15    19  "
            ],
            "text/html": [
              "\n",
              "  <div id=\"df-9b674c6f-01f3-45da-9669-527e278d94ee\" class=\"colab-df-container\">\n",
              "    <div>\n",
              "<style scoped>\n",
              "    .dataframe tbody tr th:only-of-type {\n",
              "        vertical-align: middle;\n",
              "    }\n",
              "\n",
              "    .dataframe tbody tr th {\n",
              "        vertical-align: top;\n",
              "    }\n",
              "\n",
              "    .dataframe thead th {\n",
              "        text-align: right;\n",
              "    }\n",
              "</style>\n",
              "<table border=\"1\" class=\"dataframe\">\n",
              "  <thead>\n",
              "    <tr style=\"text-align: right;\">\n",
              "      <th></th>\n",
              "      <th>Unnamed: 0.1</th>\n",
              "      <th>Unnamed: 0</th>\n",
              "      <th>Text</th>\n",
              "      <th>Sentiment</th>\n",
              "      <th>Timestamp</th>\n",
              "      <th>User</th>\n",
              "      <th>Platform</th>\n",
              "      <th>Hashtags</th>\n",
              "      <th>Retweets</th>\n",
              "      <th>Likes</th>\n",
              "      <th>Country</th>\n",
              "      <th>Year</th>\n",
              "      <th>Month</th>\n",
              "      <th>Day</th>\n",
              "      <th>Hour</th>\n",
              "    </tr>\n",
              "  </thead>\n",
              "  <tbody>\n",
              "    <tr>\n",
              "      <th>0</th>\n",
              "      <td>0</td>\n",
              "      <td>0</td>\n",
              "      <td>Enjoying a beautiful day at the park!        ...</td>\n",
              "      <td>Positive</td>\n",
              "      <td>2023-01-15 12:30:00</td>\n",
              "      <td>User123</td>\n",
              "      <td>Twitter</td>\n",
              "      <td>#Nature #Park</td>\n",
              "      <td>15.0</td>\n",
              "      <td>30.0</td>\n",
              "      <td>USA</td>\n",
              "      <td>2023</td>\n",
              "      <td>1</td>\n",
              "      <td>15</td>\n",
              "      <td>12</td>\n",
              "    </tr>\n",
              "    <tr>\n",
              "      <th>1</th>\n",
              "      <td>1</td>\n",
              "      <td>1</td>\n",
              "      <td>Traffic was terrible this morning.           ...</td>\n",
              "      <td>Negative</td>\n",
              "      <td>2023-01-15 08:45:00</td>\n",
              "      <td>CommuterX</td>\n",
              "      <td>Twitter</td>\n",
              "      <td>#Traffic #Morning</td>\n",
              "      <td>5.0</td>\n",
              "      <td>10.0</td>\n",
              "      <td>Canada</td>\n",
              "      <td>2023</td>\n",
              "      <td>1</td>\n",
              "      <td>15</td>\n",
              "      <td>8</td>\n",
              "    </tr>\n",
              "    <tr>\n",
              "      <th>2</th>\n",
              "      <td>2</td>\n",
              "      <td>2</td>\n",
              "      <td>Just finished an amazing workout! 💪          ...</td>\n",
              "      <td>Positive</td>\n",
              "      <td>2023-01-15 15:45:00</td>\n",
              "      <td>FitnessFan</td>\n",
              "      <td>Instagram</td>\n",
              "      <td>#Fitness #Workout</td>\n",
              "      <td>20.0</td>\n",
              "      <td>40.0</td>\n",
              "      <td>USA</td>\n",
              "      <td>2023</td>\n",
              "      <td>1</td>\n",
              "      <td>15</td>\n",
              "      <td>15</td>\n",
              "    </tr>\n",
              "    <tr>\n",
              "      <th>3</th>\n",
              "      <td>3</td>\n",
              "      <td>3</td>\n",
              "      <td>Excited about the upcoming weekend getaway!  ...</td>\n",
              "      <td>Positive</td>\n",
              "      <td>2023-01-15 18:20:00</td>\n",
              "      <td>AdventureX</td>\n",
              "      <td>Facebook</td>\n",
              "      <td>#Travel #Adventure</td>\n",
              "      <td>8.0</td>\n",
              "      <td>15.0</td>\n",
              "      <td>UK</td>\n",
              "      <td>2023</td>\n",
              "      <td>1</td>\n",
              "      <td>15</td>\n",
              "      <td>18</td>\n",
              "    </tr>\n",
              "    <tr>\n",
              "      <th>4</th>\n",
              "      <td>4</td>\n",
              "      <td>4</td>\n",
              "      <td>Trying out a new recipe for dinner tonight.  ...</td>\n",
              "      <td>Neutral</td>\n",
              "      <td>2023-01-15 19:55:00</td>\n",
              "      <td>ChefCook</td>\n",
              "      <td>Instagram</td>\n",
              "      <td>#Cooking #Food</td>\n",
              "      <td>12.0</td>\n",
              "      <td>25.0</td>\n",
              "      <td>Australia</td>\n",
              "      <td>2023</td>\n",
              "      <td>1</td>\n",
              "      <td>15</td>\n",
              "      <td>19</td>\n",
              "    </tr>\n",
              "  </tbody>\n",
              "</table>\n",
              "</div>\n",
              "    <div class=\"colab-df-buttons\">\n",
              "\n",
              "  <div class=\"colab-df-container\">\n",
              "    <button class=\"colab-df-convert\" onclick=\"convertToInteractive('df-9b674c6f-01f3-45da-9669-527e278d94ee')\"\n",
              "            title=\"Convert this dataframe to an interactive table.\"\n",
              "            style=\"display:none;\">\n",
              "\n",
              "  <svg xmlns=\"http://www.w3.org/2000/svg\" height=\"24px\" viewBox=\"0 -960 960 960\">\n",
              "    <path d=\"M120-120v-720h720v720H120Zm60-500h600v-160H180v160Zm220 220h160v-160H400v160Zm0 220h160v-160H400v160ZM180-400h160v-160H180v160Zm440 0h160v-160H620v160ZM180-180h160v-160H180v160Zm440 0h160v-160H620v160Z\"/>\n",
              "  </svg>\n",
              "    </button>\n",
              "\n",
              "  <style>\n",
              "    .colab-df-container {\n",
              "      display:flex;\n",
              "      gap: 12px;\n",
              "    }\n",
              "\n",
              "    .colab-df-convert {\n",
              "      background-color: #E8F0FE;\n",
              "      border: none;\n",
              "      border-radius: 50%;\n",
              "      cursor: pointer;\n",
              "      display: none;\n",
              "      fill: #1967D2;\n",
              "      height: 32px;\n",
              "      padding: 0 0 0 0;\n",
              "      width: 32px;\n",
              "    }\n",
              "\n",
              "    .colab-df-convert:hover {\n",
              "      background-color: #E2EBFA;\n",
              "      box-shadow: 0px 1px 2px rgba(60, 64, 67, 0.3), 0px 1px 3px 1px rgba(60, 64, 67, 0.15);\n",
              "      fill: #174EA6;\n",
              "    }\n",
              "\n",
              "    .colab-df-buttons div {\n",
              "      margin-bottom: 4px;\n",
              "    }\n",
              "\n",
              "    [theme=dark] .colab-df-convert {\n",
              "      background-color: #3B4455;\n",
              "      fill: #D2E3FC;\n",
              "    }\n",
              "\n",
              "    [theme=dark] .colab-df-convert:hover {\n",
              "      background-color: #434B5C;\n",
              "      box-shadow: 0px 1px 3px 1px rgba(0, 0, 0, 0.15);\n",
              "      filter: drop-shadow(0px 1px 2px rgba(0, 0, 0, 0.3));\n",
              "      fill: #FFFFFF;\n",
              "    }\n",
              "  </style>\n",
              "\n",
              "    <script>\n",
              "      const buttonEl =\n",
              "        document.querySelector('#df-9b674c6f-01f3-45da-9669-527e278d94ee button.colab-df-convert');\n",
              "      buttonEl.style.display =\n",
              "        google.colab.kernel.accessAllowed ? 'block' : 'none';\n",
              "\n",
              "      async function convertToInteractive(key) {\n",
              "        const element = document.querySelector('#df-9b674c6f-01f3-45da-9669-527e278d94ee');\n",
              "        const dataTable =\n",
              "          await google.colab.kernel.invokeFunction('convertToInteractive',\n",
              "                                                    [key], {});\n",
              "        if (!dataTable) return;\n",
              "\n",
              "        const docLinkHtml = 'Like what you see? Visit the ' +\n",
              "          '<a target=\"_blank\" href=https://colab.research.google.com/notebooks/data_table.ipynb>data table notebook</a>'\n",
              "          + ' to learn more about interactive tables.';\n",
              "        element.innerHTML = '';\n",
              "        dataTable['output_type'] = 'display_data';\n",
              "        await google.colab.output.renderOutput(dataTable, element);\n",
              "        const docLink = document.createElement('div');\n",
              "        docLink.innerHTML = docLinkHtml;\n",
              "        element.appendChild(docLink);\n",
              "      }\n",
              "    </script>\n",
              "  </div>\n",
              "\n",
              "\n",
              "<div id=\"df-b130a30f-efb9-47e6-8090-3de43877a972\">\n",
              "  <button class=\"colab-df-quickchart\" onclick=\"quickchart('df-b130a30f-efb9-47e6-8090-3de43877a972')\"\n",
              "            title=\"Suggest charts\"\n",
              "            style=\"display:none;\">\n",
              "\n",
              "<svg xmlns=\"http://www.w3.org/2000/svg\" height=\"24px\"viewBox=\"0 0 24 24\"\n",
              "     width=\"24px\">\n",
              "    <g>\n",
              "        <path d=\"M19 3H5c-1.1 0-2 .9-2 2v14c0 1.1.9 2 2 2h14c1.1 0 2-.9 2-2V5c0-1.1-.9-2-2-2zM9 17H7v-7h2v7zm4 0h-2V7h2v10zm4 0h-2v-4h2v4z\"/>\n",
              "    </g>\n",
              "</svg>\n",
              "  </button>\n",
              "\n",
              "<style>\n",
              "  .colab-df-quickchart {\n",
              "      --bg-color: #E8F0FE;\n",
              "      --fill-color: #1967D2;\n",
              "      --hover-bg-color: #E2EBFA;\n",
              "      --hover-fill-color: #174EA6;\n",
              "      --disabled-fill-color: #AAA;\n",
              "      --disabled-bg-color: #DDD;\n",
              "  }\n",
              "\n",
              "  [theme=dark] .colab-df-quickchart {\n",
              "      --bg-color: #3B4455;\n",
              "      --fill-color: #D2E3FC;\n",
              "      --hover-bg-color: #434B5C;\n",
              "      --hover-fill-color: #FFFFFF;\n",
              "      --disabled-bg-color: #3B4455;\n",
              "      --disabled-fill-color: #666;\n",
              "  }\n",
              "\n",
              "  .colab-df-quickchart {\n",
              "    background-color: var(--bg-color);\n",
              "    border: none;\n",
              "    border-radius: 50%;\n",
              "    cursor: pointer;\n",
              "    display: none;\n",
              "    fill: var(--fill-color);\n",
              "    height: 32px;\n",
              "    padding: 0;\n",
              "    width: 32px;\n",
              "  }\n",
              "\n",
              "  .colab-df-quickchart:hover {\n",
              "    background-color: var(--hover-bg-color);\n",
              "    box-shadow: 0 1px 2px rgba(60, 64, 67, 0.3), 0 1px 3px 1px rgba(60, 64, 67, 0.15);\n",
              "    fill: var(--button-hover-fill-color);\n",
              "  }\n",
              "\n",
              "  .colab-df-quickchart-complete:disabled,\n",
              "  .colab-df-quickchart-complete:disabled:hover {\n",
              "    background-color: var(--disabled-bg-color);\n",
              "    fill: var(--disabled-fill-color);\n",
              "    box-shadow: none;\n",
              "  }\n",
              "\n",
              "  .colab-df-spinner {\n",
              "    border: 2px solid var(--fill-color);\n",
              "    border-color: transparent;\n",
              "    border-bottom-color: var(--fill-color);\n",
              "    animation:\n",
              "      spin 1s steps(1) infinite;\n",
              "  }\n",
              "\n",
              "  @keyframes spin {\n",
              "    0% {\n",
              "      border-color: transparent;\n",
              "      border-bottom-color: var(--fill-color);\n",
              "      border-left-color: var(--fill-color);\n",
              "    }\n",
              "    20% {\n",
              "      border-color: transparent;\n",
              "      border-left-color: var(--fill-color);\n",
              "      border-top-color: var(--fill-color);\n",
              "    }\n",
              "    30% {\n",
              "      border-color: transparent;\n",
              "      border-left-color: var(--fill-color);\n",
              "      border-top-color: var(--fill-color);\n",
              "      border-right-color: var(--fill-color);\n",
              "    }\n",
              "    40% {\n",
              "      border-color: transparent;\n",
              "      border-right-color: var(--fill-color);\n",
              "      border-top-color: var(--fill-color);\n",
              "    }\n",
              "    60% {\n",
              "      border-color: transparent;\n",
              "      border-right-color: var(--fill-color);\n",
              "    }\n",
              "    80% {\n",
              "      border-color: transparent;\n",
              "      border-right-color: var(--fill-color);\n",
              "      border-bottom-color: var(--fill-color);\n",
              "    }\n",
              "    90% {\n",
              "      border-color: transparent;\n",
              "      border-bottom-color: var(--fill-color);\n",
              "    }\n",
              "  }\n",
              "</style>\n",
              "\n",
              "  <script>\n",
              "    async function quickchart(key) {\n",
              "      const quickchartButtonEl =\n",
              "        document.querySelector('#' + key + ' button');\n",
              "      quickchartButtonEl.disabled = true;  // To prevent multiple clicks.\n",
              "      quickchartButtonEl.classList.add('colab-df-spinner');\n",
              "      try {\n",
              "        const charts = await google.colab.kernel.invokeFunction(\n",
              "            'suggestCharts', [key], {});\n",
              "      } catch (error) {\n",
              "        console.error('Error during call to suggestCharts:', error);\n",
              "      }\n",
              "      quickchartButtonEl.classList.remove('colab-df-spinner');\n",
              "      quickchartButtonEl.classList.add('colab-df-quickchart-complete');\n",
              "    }\n",
              "    (() => {\n",
              "      let quickchartButtonEl =\n",
              "        document.querySelector('#df-b130a30f-efb9-47e6-8090-3de43877a972 button');\n",
              "      quickchartButtonEl.style.display =\n",
              "        google.colab.kernel.accessAllowed ? 'block' : 'none';\n",
              "    })();\n",
              "  </script>\n",
              "</div>\n",
              "\n",
              "    </div>\n",
              "  </div>\n"
            ],
            "application/vnd.google.colaboratory.intrinsic+json": {
              "type": "dataframe",
              "variable_name": "df",
              "summary": "{\n  \"name\": \"df\",\n  \"rows\": 732,\n  \"fields\": [\n    {\n      \"column\": \"Unnamed: 0.1\",\n      \"properties\": {\n        \"dtype\": \"number\",\n        \"std\": 211,\n        \"min\": 0,\n        \"max\": 732,\n        \"num_unique_values\": 732,\n        \"samples\": [\n          605,\n          34,\n          301\n        ],\n        \"semantic_type\": \"\",\n        \"description\": \"\"\n      }\n    },\n    {\n      \"column\": \"Unnamed: 0\",\n      \"properties\": {\n        \"dtype\": \"number\",\n        \"std\": 212,\n        \"min\": 0,\n        \"max\": 736,\n        \"num_unique_values\": 732,\n        \"samples\": [\n          609,\n          35,\n          305\n        ],\n        \"semantic_type\": \"\",\n        \"description\": \"\"\n      }\n    },\n    {\n      \"column\": \"Text\",\n      \"properties\": {\n        \"dtype\": \"string\",\n        \"num_unique_values\": 707,\n        \"samples\": [\n          \"Walking the Great Wall of China, each step a testament to ancient engineering marvels. \",\n          \" Laughter is the key to joy\\u2014attending a stand-up comedy show. \",\n          \" The fear of the unknown is keeping me up at night.    \"\n        ],\n        \"semantic_type\": \"\",\n        \"description\": \"\"\n      }\n    },\n    {\n      \"column\": \"Sentiment\",\n      \"properties\": {\n        \"dtype\": \"category\",\n        \"num_unique_values\": 279,\n        \"samples\": [\n          \" Elation       \",\n          \" Confidence    \",\n          \" Loss \"\n        ],\n        \"semantic_type\": \"\",\n        \"description\": \"\"\n      }\n    },\n    {\n      \"column\": \"Timestamp\",\n      \"properties\": {\n        \"dtype\": \"object\",\n        \"num_unique_values\": 683,\n        \"samples\": [\n          \"2019-12-12 17:00:00\",\n          \"2018-03-10 09:45:00\",\n          \"2022-01-05 10:30:00\"\n        ],\n        \"semantic_type\": \"\",\n        \"description\": \"\"\n      }\n    },\n    {\n      \"column\": \"User\",\n      \"properties\": {\n        \"dtype\": \"string\",\n        \"num_unique_values\": 685,\n        \"samples\": [\n          \" VenomousHeart \",\n          \" GamingEnthusiast \",\n          \" DreamChaser       \"\n        ],\n        \"semantic_type\": \"\",\n        \"description\": \"\"\n      }\n    },\n    {\n      \"column\": \"Platform\",\n      \"properties\": {\n        \"dtype\": \"category\",\n        \"num_unique_values\": 4,\n        \"samples\": [\n          \" Instagram \",\n          \" Twitter \",\n          \" Twitter  \"\n        ],\n        \"semantic_type\": \"\",\n        \"description\": \"\"\n      }\n    },\n    {\n      \"column\": \"Hashtags\",\n      \"properties\": {\n        \"dtype\": \"string\",\n        \"num_unique_values\": 697,\n        \"samples\": [\n          \" #Fulfillment #PuzzleChallenge                \",\n          \" #Nostalgia #ClassicFilmMoments \",\n          \" #Isolation #EmotionalWinter            \"\n        ],\n        \"semantic_type\": \"\",\n        \"description\": \"\"\n      }\n    },\n    {\n      \"column\": \"Retweets\",\n      \"properties\": {\n        \"dtype\": \"number\",\n        \"std\": 7.061286414470437,\n        \"min\": 5.0,\n        \"max\": 40.0,\n        \"num_unique_values\": 26,\n        \"samples\": [\n          18.0,\n          17.0,\n          15.0\n        ],\n        \"semantic_type\": \"\",\n        \"description\": \"\"\n      }\n    },\n    {\n      \"column\": \"Likes\",\n      \"properties\": {\n        \"dtype\": \"number\",\n        \"std\": 14.089848390888744,\n        \"min\": 10.0,\n        \"max\": 80.0,\n        \"num_unique_values\": 38,\n        \"samples\": [\n          31.0,\n          51.0,\n          25.0\n        ],\n        \"semantic_type\": \"\",\n        \"description\": \"\"\n      }\n    },\n    {\n      \"column\": \"Country\",\n      \"properties\": {\n        \"dtype\": \"category\",\n        \"num_unique_values\": 115,\n        \"samples\": [\n          \" France         \",\n          \" Australia \",\n          \" India         \"\n        ],\n        \"semantic_type\": \"\",\n        \"description\": \"\"\n      }\n    },\n    {\n      \"column\": \"Year\",\n      \"properties\": {\n        \"dtype\": \"number\",\n        \"std\": 2,\n        \"min\": 2010,\n        \"max\": 2023,\n        \"num_unique_values\": 14,\n        \"samples\": [\n          2016,\n          2018,\n          2023\n        ],\n        \"semantic_type\": \"\",\n        \"description\": \"\"\n      }\n    },\n    {\n      \"column\": \"Month\",\n      \"properties\": {\n        \"dtype\": \"number\",\n        \"std\": 3,\n        \"min\": 1,\n        \"max\": 12,\n        \"num_unique_values\": 12,\n        \"samples\": [\n          10,\n          7,\n          1\n        ],\n        \"semantic_type\": \"\",\n        \"description\": \"\"\n      }\n    },\n    {\n      \"column\": \"Day\",\n      \"properties\": {\n        \"dtype\": \"number\",\n        \"std\": 8,\n        \"min\": 1,\n        \"max\": 31,\n        \"num_unique_values\": 31,\n        \"samples\": [\n          7,\n          30,\n          3\n        ],\n        \"semantic_type\": \"\",\n        \"description\": \"\"\n      }\n    },\n    {\n      \"column\": \"Hour\",\n      \"properties\": {\n        \"dtype\": \"number\",\n        \"std\": 4,\n        \"min\": 0,\n        \"max\": 23,\n        \"num_unique_values\": 22,\n        \"samples\": [\n          12,\n          20,\n          13\n        ],\n        \"semantic_type\": \"\",\n        \"description\": \"\"\n      }\n    }\n  ]\n}"
            }
          },
          "metadata": {},
          "execution_count": 41
        }
      ],
      "source": [
        "#Load the dataset\n",
        "df = pd.read_csv(\"sentiment.csv\")\n",
        "df.head()\n"
      ]
    },
    {
      "cell_type": "markdown",
      "metadata": {
        "id": "AjTnjSpVGK-h"
      },
      "source": [
        "#### The Social Media Sentiments Analysis Dataset captures a vibrant tapestry of emotions, trends, and interactions across various social media platforms. This dataset provides a snapshot of user-generated content, encompassing text, timestamps, hashtags, countries, likes, and retweets. Each entry unveils unique stories—moments of surprise, excitement, admiration, thrill, contentment, and more—shared by individuals worldwide."
      ]
    },
    {
      "cell_type": "markdown",
      "metadata": {
        "id": "E75LVttdGYLf"
      },
      "source": [
        "### **Key Features**  \n",
        "\n",
        "| **Feature**   | **Description**  |  \n",
        "|--------------|----------------|  \n",
        "| **Text**        | User-generated content showcasing sentiments |  \n",
        "| **Sentiment**   | Categorized emotions (e.g., Positive, Negative, Neutral) |  \n",
        "| **Timestamp**   | Date and time information of the post |  \n",
        "| **User**        | Unique identifier of users contributing to the trend |  \n",
        "| **Platform**    | Social media platform where the content originated (Twitter, Instagram, LinkedIn) |  \n",
        "| **Hashtags**    | Identifies trending topics and themes |  \n",
        "| **Likes**       | Quantifies user engagement (number of likes) |  \n",
        "| **Retweets**    | Reflects content popularity (number of retweets/shares) |  \n",
        "| **Country**     | Geographical origin of each post |  \n",
        "| **Year**        | Year when the post was published |  \n",
        "| **Month**       | Month when the post was published |  \n",
        "| **Day**         | Day when the post was published |  \n",
        "| **Hour**        | Hour of the day when the posts published |  \n",
        "our of the post"
      ]
    },
    {
      "cell_type": "code",
      "source": [
        "#drop columns named 'unnamed'\n",
        "\n",
        "df = df.loc[:, ~df.columns.str.contains(\"^Unnamed\")]\n",
        "df.head()"
      ],
      "metadata": {
        "colab": {
          "base_uri": "https://localhost:8080/",
          "height": 293
        },
        "id": "dhChoCaHbTLK",
        "outputId": "1e10ec6e-3819-48bc-cab5-5231c9ae4e93"
      },
      "execution_count": 42,
      "outputs": [
        {
          "output_type": "execute_result",
          "data": {
            "text/plain": [
              "                                                Text    Sentiment  \\\n",
              "0   Enjoying a beautiful day at the park!        ...   Positive     \n",
              "1   Traffic was terrible this morning.           ...   Negative     \n",
              "2   Just finished an amazing workout! 💪          ...   Positive     \n",
              "3   Excited about the upcoming weekend getaway!  ...   Positive     \n",
              "4   Trying out a new recipe for dinner tonight.  ...   Neutral      \n",
              "\n",
              "             Timestamp            User     Platform  \\\n",
              "0  2023-01-15 12:30:00   User123          Twitter     \n",
              "1  2023-01-15 08:45:00   CommuterX        Twitter     \n",
              "2  2023-01-15 15:45:00   FitnessFan      Instagram    \n",
              "3  2023-01-15 18:20:00   AdventureX       Facebook    \n",
              "4  2023-01-15 19:55:00   ChefCook        Instagram    \n",
              "\n",
              "                                     Hashtags  Retweets  Likes       Country  \\\n",
              "0   #Nature #Park                                  15.0   30.0     USA         \n",
              "1   #Traffic #Morning                               5.0   10.0     Canada      \n",
              "2   #Fitness #Workout                              20.0   40.0   USA           \n",
              "3   #Travel #Adventure                              8.0   15.0     UK          \n",
              "4   #Cooking #Food                                 12.0   25.0    Australia    \n",
              "\n",
              "   Year  Month  Day  Hour  \n",
              "0  2023      1   15    12  \n",
              "1  2023      1   15     8  \n",
              "2  2023      1   15    15  \n",
              "3  2023      1   15    18  \n",
              "4  2023      1   15    19  "
            ],
            "text/html": [
              "\n",
              "  <div id=\"df-76a2f132-c1e9-4084-9bb7-d2dcfa8fee85\" class=\"colab-df-container\">\n",
              "    <div>\n",
              "<style scoped>\n",
              "    .dataframe tbody tr th:only-of-type {\n",
              "        vertical-align: middle;\n",
              "    }\n",
              "\n",
              "    .dataframe tbody tr th {\n",
              "        vertical-align: top;\n",
              "    }\n",
              "\n",
              "    .dataframe thead th {\n",
              "        text-align: right;\n",
              "    }\n",
              "</style>\n",
              "<table border=\"1\" class=\"dataframe\">\n",
              "  <thead>\n",
              "    <tr style=\"text-align: right;\">\n",
              "      <th></th>\n",
              "      <th>Text</th>\n",
              "      <th>Sentiment</th>\n",
              "      <th>Timestamp</th>\n",
              "      <th>User</th>\n",
              "      <th>Platform</th>\n",
              "      <th>Hashtags</th>\n",
              "      <th>Retweets</th>\n",
              "      <th>Likes</th>\n",
              "      <th>Country</th>\n",
              "      <th>Year</th>\n",
              "      <th>Month</th>\n",
              "      <th>Day</th>\n",
              "      <th>Hour</th>\n",
              "    </tr>\n",
              "  </thead>\n",
              "  <tbody>\n",
              "    <tr>\n",
              "      <th>0</th>\n",
              "      <td>Enjoying a beautiful day at the park!        ...</td>\n",
              "      <td>Positive</td>\n",
              "      <td>2023-01-15 12:30:00</td>\n",
              "      <td>User123</td>\n",
              "      <td>Twitter</td>\n",
              "      <td>#Nature #Park</td>\n",
              "      <td>15.0</td>\n",
              "      <td>30.0</td>\n",
              "      <td>USA</td>\n",
              "      <td>2023</td>\n",
              "      <td>1</td>\n",
              "      <td>15</td>\n",
              "      <td>12</td>\n",
              "    </tr>\n",
              "    <tr>\n",
              "      <th>1</th>\n",
              "      <td>Traffic was terrible this morning.           ...</td>\n",
              "      <td>Negative</td>\n",
              "      <td>2023-01-15 08:45:00</td>\n",
              "      <td>CommuterX</td>\n",
              "      <td>Twitter</td>\n",
              "      <td>#Traffic #Morning</td>\n",
              "      <td>5.0</td>\n",
              "      <td>10.0</td>\n",
              "      <td>Canada</td>\n",
              "      <td>2023</td>\n",
              "      <td>1</td>\n",
              "      <td>15</td>\n",
              "      <td>8</td>\n",
              "    </tr>\n",
              "    <tr>\n",
              "      <th>2</th>\n",
              "      <td>Just finished an amazing workout! 💪          ...</td>\n",
              "      <td>Positive</td>\n",
              "      <td>2023-01-15 15:45:00</td>\n",
              "      <td>FitnessFan</td>\n",
              "      <td>Instagram</td>\n",
              "      <td>#Fitness #Workout</td>\n",
              "      <td>20.0</td>\n",
              "      <td>40.0</td>\n",
              "      <td>USA</td>\n",
              "      <td>2023</td>\n",
              "      <td>1</td>\n",
              "      <td>15</td>\n",
              "      <td>15</td>\n",
              "    </tr>\n",
              "    <tr>\n",
              "      <th>3</th>\n",
              "      <td>Excited about the upcoming weekend getaway!  ...</td>\n",
              "      <td>Positive</td>\n",
              "      <td>2023-01-15 18:20:00</td>\n",
              "      <td>AdventureX</td>\n",
              "      <td>Facebook</td>\n",
              "      <td>#Travel #Adventure</td>\n",
              "      <td>8.0</td>\n",
              "      <td>15.0</td>\n",
              "      <td>UK</td>\n",
              "      <td>2023</td>\n",
              "      <td>1</td>\n",
              "      <td>15</td>\n",
              "      <td>18</td>\n",
              "    </tr>\n",
              "    <tr>\n",
              "      <th>4</th>\n",
              "      <td>Trying out a new recipe for dinner tonight.  ...</td>\n",
              "      <td>Neutral</td>\n",
              "      <td>2023-01-15 19:55:00</td>\n",
              "      <td>ChefCook</td>\n",
              "      <td>Instagram</td>\n",
              "      <td>#Cooking #Food</td>\n",
              "      <td>12.0</td>\n",
              "      <td>25.0</td>\n",
              "      <td>Australia</td>\n",
              "      <td>2023</td>\n",
              "      <td>1</td>\n",
              "      <td>15</td>\n",
              "      <td>19</td>\n",
              "    </tr>\n",
              "  </tbody>\n",
              "</table>\n",
              "</div>\n",
              "    <div class=\"colab-df-buttons\">\n",
              "\n",
              "  <div class=\"colab-df-container\">\n",
              "    <button class=\"colab-df-convert\" onclick=\"convertToInteractive('df-76a2f132-c1e9-4084-9bb7-d2dcfa8fee85')\"\n",
              "            title=\"Convert this dataframe to an interactive table.\"\n",
              "            style=\"display:none;\">\n",
              "\n",
              "  <svg xmlns=\"http://www.w3.org/2000/svg\" height=\"24px\" viewBox=\"0 -960 960 960\">\n",
              "    <path d=\"M120-120v-720h720v720H120Zm60-500h600v-160H180v160Zm220 220h160v-160H400v160Zm0 220h160v-160H400v160ZM180-400h160v-160H180v160Zm440 0h160v-160H620v160ZM180-180h160v-160H180v160Zm440 0h160v-160H620v160Z\"/>\n",
              "  </svg>\n",
              "    </button>\n",
              "\n",
              "  <style>\n",
              "    .colab-df-container {\n",
              "      display:flex;\n",
              "      gap: 12px;\n",
              "    }\n",
              "\n",
              "    .colab-df-convert {\n",
              "      background-color: #E8F0FE;\n",
              "      border: none;\n",
              "      border-radius: 50%;\n",
              "      cursor: pointer;\n",
              "      display: none;\n",
              "      fill: #1967D2;\n",
              "      height: 32px;\n",
              "      padding: 0 0 0 0;\n",
              "      width: 32px;\n",
              "    }\n",
              "\n",
              "    .colab-df-convert:hover {\n",
              "      background-color: #E2EBFA;\n",
              "      box-shadow: 0px 1px 2px rgba(60, 64, 67, 0.3), 0px 1px 3px 1px rgba(60, 64, 67, 0.15);\n",
              "      fill: #174EA6;\n",
              "    }\n",
              "\n",
              "    .colab-df-buttons div {\n",
              "      margin-bottom: 4px;\n",
              "    }\n",
              "\n",
              "    [theme=dark] .colab-df-convert {\n",
              "      background-color: #3B4455;\n",
              "      fill: #D2E3FC;\n",
              "    }\n",
              "\n",
              "    [theme=dark] .colab-df-convert:hover {\n",
              "      background-color: #434B5C;\n",
              "      box-shadow: 0px 1px 3px 1px rgba(0, 0, 0, 0.15);\n",
              "      filter: drop-shadow(0px 1px 2px rgba(0, 0, 0, 0.3));\n",
              "      fill: #FFFFFF;\n",
              "    }\n",
              "  </style>\n",
              "\n",
              "    <script>\n",
              "      const buttonEl =\n",
              "        document.querySelector('#df-76a2f132-c1e9-4084-9bb7-d2dcfa8fee85 button.colab-df-convert');\n",
              "      buttonEl.style.display =\n",
              "        google.colab.kernel.accessAllowed ? 'block' : 'none';\n",
              "\n",
              "      async function convertToInteractive(key) {\n",
              "        const element = document.querySelector('#df-76a2f132-c1e9-4084-9bb7-d2dcfa8fee85');\n",
              "        const dataTable =\n",
              "          await google.colab.kernel.invokeFunction('convertToInteractive',\n",
              "                                                    [key], {});\n",
              "        if (!dataTable) return;\n",
              "\n",
              "        const docLinkHtml = 'Like what you see? Visit the ' +\n",
              "          '<a target=\"_blank\" href=https://colab.research.google.com/notebooks/data_table.ipynb>data table notebook</a>'\n",
              "          + ' to learn more about interactive tables.';\n",
              "        element.innerHTML = '';\n",
              "        dataTable['output_type'] = 'display_data';\n",
              "        await google.colab.output.renderOutput(dataTable, element);\n",
              "        const docLink = document.createElement('div');\n",
              "        docLink.innerHTML = docLinkHtml;\n",
              "        element.appendChild(docLink);\n",
              "      }\n",
              "    </script>\n",
              "  </div>\n",
              "\n",
              "\n",
              "<div id=\"df-3aaf8980-539f-492e-8c0b-458ec832388b\">\n",
              "  <button class=\"colab-df-quickchart\" onclick=\"quickchart('df-3aaf8980-539f-492e-8c0b-458ec832388b')\"\n",
              "            title=\"Suggest charts\"\n",
              "            style=\"display:none;\">\n",
              "\n",
              "<svg xmlns=\"http://www.w3.org/2000/svg\" height=\"24px\"viewBox=\"0 0 24 24\"\n",
              "     width=\"24px\">\n",
              "    <g>\n",
              "        <path d=\"M19 3H5c-1.1 0-2 .9-2 2v14c0 1.1.9 2 2 2h14c1.1 0 2-.9 2-2V5c0-1.1-.9-2-2-2zM9 17H7v-7h2v7zm4 0h-2V7h2v10zm4 0h-2v-4h2v4z\"/>\n",
              "    </g>\n",
              "</svg>\n",
              "  </button>\n",
              "\n",
              "<style>\n",
              "  .colab-df-quickchart {\n",
              "      --bg-color: #E8F0FE;\n",
              "      --fill-color: #1967D2;\n",
              "      --hover-bg-color: #E2EBFA;\n",
              "      --hover-fill-color: #174EA6;\n",
              "      --disabled-fill-color: #AAA;\n",
              "      --disabled-bg-color: #DDD;\n",
              "  }\n",
              "\n",
              "  [theme=dark] .colab-df-quickchart {\n",
              "      --bg-color: #3B4455;\n",
              "      --fill-color: #D2E3FC;\n",
              "      --hover-bg-color: #434B5C;\n",
              "      --hover-fill-color: #FFFFFF;\n",
              "      --disabled-bg-color: #3B4455;\n",
              "      --disabled-fill-color: #666;\n",
              "  }\n",
              "\n",
              "  .colab-df-quickchart {\n",
              "    background-color: var(--bg-color);\n",
              "    border: none;\n",
              "    border-radius: 50%;\n",
              "    cursor: pointer;\n",
              "    display: none;\n",
              "    fill: var(--fill-color);\n",
              "    height: 32px;\n",
              "    padding: 0;\n",
              "    width: 32px;\n",
              "  }\n",
              "\n",
              "  .colab-df-quickchart:hover {\n",
              "    background-color: var(--hover-bg-color);\n",
              "    box-shadow: 0 1px 2px rgba(60, 64, 67, 0.3), 0 1px 3px 1px rgba(60, 64, 67, 0.15);\n",
              "    fill: var(--button-hover-fill-color);\n",
              "  }\n",
              "\n",
              "  .colab-df-quickchart-complete:disabled,\n",
              "  .colab-df-quickchart-complete:disabled:hover {\n",
              "    background-color: var(--disabled-bg-color);\n",
              "    fill: var(--disabled-fill-color);\n",
              "    box-shadow: none;\n",
              "  }\n",
              "\n",
              "  .colab-df-spinner {\n",
              "    border: 2px solid var(--fill-color);\n",
              "    border-color: transparent;\n",
              "    border-bottom-color: var(--fill-color);\n",
              "    animation:\n",
              "      spin 1s steps(1) infinite;\n",
              "  }\n",
              "\n",
              "  @keyframes spin {\n",
              "    0% {\n",
              "      border-color: transparent;\n",
              "      border-bottom-color: var(--fill-color);\n",
              "      border-left-color: var(--fill-color);\n",
              "    }\n",
              "    20% {\n",
              "      border-color: transparent;\n",
              "      border-left-color: var(--fill-color);\n",
              "      border-top-color: var(--fill-color);\n",
              "    }\n",
              "    30% {\n",
              "      border-color: transparent;\n",
              "      border-left-color: var(--fill-color);\n",
              "      border-top-color: var(--fill-color);\n",
              "      border-right-color: var(--fill-color);\n",
              "    }\n",
              "    40% {\n",
              "      border-color: transparent;\n",
              "      border-right-color: var(--fill-color);\n",
              "      border-top-color: var(--fill-color);\n",
              "    }\n",
              "    60% {\n",
              "      border-color: transparent;\n",
              "      border-right-color: var(--fill-color);\n",
              "    }\n",
              "    80% {\n",
              "      border-color: transparent;\n",
              "      border-right-color: var(--fill-color);\n",
              "      border-bottom-color: var(--fill-color);\n",
              "    }\n",
              "    90% {\n",
              "      border-color: transparent;\n",
              "      border-bottom-color: var(--fill-color);\n",
              "    }\n",
              "  }\n",
              "</style>\n",
              "\n",
              "  <script>\n",
              "    async function quickchart(key) {\n",
              "      const quickchartButtonEl =\n",
              "        document.querySelector('#' + key + ' button');\n",
              "      quickchartButtonEl.disabled = true;  // To prevent multiple clicks.\n",
              "      quickchartButtonEl.classList.add('colab-df-spinner');\n",
              "      try {\n",
              "        const charts = await google.colab.kernel.invokeFunction(\n",
              "            'suggestCharts', [key], {});\n",
              "      } catch (error) {\n",
              "        console.error('Error during call to suggestCharts:', error);\n",
              "      }\n",
              "      quickchartButtonEl.classList.remove('colab-df-spinner');\n",
              "      quickchartButtonEl.classList.add('colab-df-quickchart-complete');\n",
              "    }\n",
              "    (() => {\n",
              "      let quickchartButtonEl =\n",
              "        document.querySelector('#df-3aaf8980-539f-492e-8c0b-458ec832388b button');\n",
              "      quickchartButtonEl.style.display =\n",
              "        google.colab.kernel.accessAllowed ? 'block' : 'none';\n",
              "    })();\n",
              "  </script>\n",
              "</div>\n",
              "\n",
              "    </div>\n",
              "  </div>\n"
            ],
            "application/vnd.google.colaboratory.intrinsic+json": {
              "type": "dataframe",
              "variable_name": "df",
              "summary": "{\n  \"name\": \"df\",\n  \"rows\": 732,\n  \"fields\": [\n    {\n      \"column\": \"Text\",\n      \"properties\": {\n        \"dtype\": \"string\",\n        \"num_unique_values\": 707,\n        \"samples\": [\n          \"Walking the Great Wall of China, each step a testament to ancient engineering marvels. \",\n          \" Laughter is the key to joy\\u2014attending a stand-up comedy show. \",\n          \" The fear of the unknown is keeping me up at night.    \"\n        ],\n        \"semantic_type\": \"\",\n        \"description\": \"\"\n      }\n    },\n    {\n      \"column\": \"Sentiment\",\n      \"properties\": {\n        \"dtype\": \"category\",\n        \"num_unique_values\": 279,\n        \"samples\": [\n          \" Elation       \",\n          \" Confidence    \",\n          \" Loss \"\n        ],\n        \"semantic_type\": \"\",\n        \"description\": \"\"\n      }\n    },\n    {\n      \"column\": \"Timestamp\",\n      \"properties\": {\n        \"dtype\": \"object\",\n        \"num_unique_values\": 683,\n        \"samples\": [\n          \"2019-12-12 17:00:00\",\n          \"2018-03-10 09:45:00\",\n          \"2022-01-05 10:30:00\"\n        ],\n        \"semantic_type\": \"\",\n        \"description\": \"\"\n      }\n    },\n    {\n      \"column\": \"User\",\n      \"properties\": {\n        \"dtype\": \"string\",\n        \"num_unique_values\": 685,\n        \"samples\": [\n          \" VenomousHeart \",\n          \" GamingEnthusiast \",\n          \" DreamChaser       \"\n        ],\n        \"semantic_type\": \"\",\n        \"description\": \"\"\n      }\n    },\n    {\n      \"column\": \"Platform\",\n      \"properties\": {\n        \"dtype\": \"category\",\n        \"num_unique_values\": 4,\n        \"samples\": [\n          \" Instagram \",\n          \" Twitter \",\n          \" Twitter  \"\n        ],\n        \"semantic_type\": \"\",\n        \"description\": \"\"\n      }\n    },\n    {\n      \"column\": \"Hashtags\",\n      \"properties\": {\n        \"dtype\": \"string\",\n        \"num_unique_values\": 697,\n        \"samples\": [\n          \" #Fulfillment #PuzzleChallenge                \",\n          \" #Nostalgia #ClassicFilmMoments \",\n          \" #Isolation #EmotionalWinter            \"\n        ],\n        \"semantic_type\": \"\",\n        \"description\": \"\"\n      }\n    },\n    {\n      \"column\": \"Retweets\",\n      \"properties\": {\n        \"dtype\": \"number\",\n        \"std\": 7.061286414470437,\n        \"min\": 5.0,\n        \"max\": 40.0,\n        \"num_unique_values\": 26,\n        \"samples\": [\n          18.0,\n          17.0,\n          15.0\n        ],\n        \"semantic_type\": \"\",\n        \"description\": \"\"\n      }\n    },\n    {\n      \"column\": \"Likes\",\n      \"properties\": {\n        \"dtype\": \"number\",\n        \"std\": 14.089848390888744,\n        \"min\": 10.0,\n        \"max\": 80.0,\n        \"num_unique_values\": 38,\n        \"samples\": [\n          31.0,\n          51.0,\n          25.0\n        ],\n        \"semantic_type\": \"\",\n        \"description\": \"\"\n      }\n    },\n    {\n      \"column\": \"Country\",\n      \"properties\": {\n        \"dtype\": \"category\",\n        \"num_unique_values\": 115,\n        \"samples\": [\n          \" France         \",\n          \" Australia \",\n          \" India         \"\n        ],\n        \"semantic_type\": \"\",\n        \"description\": \"\"\n      }\n    },\n    {\n      \"column\": \"Year\",\n      \"properties\": {\n        \"dtype\": \"number\",\n        \"std\": 2,\n        \"min\": 2010,\n        \"max\": 2023,\n        \"num_unique_values\": 14,\n        \"samples\": [\n          2016,\n          2018,\n          2023\n        ],\n        \"semantic_type\": \"\",\n        \"description\": \"\"\n      }\n    },\n    {\n      \"column\": \"Month\",\n      \"properties\": {\n        \"dtype\": \"number\",\n        \"std\": 3,\n        \"min\": 1,\n        \"max\": 12,\n        \"num_unique_values\": 12,\n        \"samples\": [\n          10,\n          7,\n          1\n        ],\n        \"semantic_type\": \"\",\n        \"description\": \"\"\n      }\n    },\n    {\n      \"column\": \"Day\",\n      \"properties\": {\n        \"dtype\": \"number\",\n        \"std\": 8,\n        \"min\": 1,\n        \"max\": 31,\n        \"num_unique_values\": 31,\n        \"samples\": [\n          7,\n          30,\n          3\n        ],\n        \"semantic_type\": \"\",\n        \"description\": \"\"\n      }\n    },\n    {\n      \"column\": \"Hour\",\n      \"properties\": {\n        \"dtype\": \"number\",\n        \"std\": 4,\n        \"min\": 0,\n        \"max\": 23,\n        \"num_unique_values\": 22,\n        \"samples\": [\n          12,\n          20,\n          13\n        ],\n        \"semantic_type\": \"\",\n        \"description\": \"\"\n      }\n    }\n  ]\n}"
            }
          },
          "metadata": {},
          "execution_count": 42
        }
      ]
    },
    {
      "cell_type": "code",
      "execution_count": 43,
      "metadata": {
        "colab": {
          "base_uri": "https://localhost:8080/"
        },
        "id": "LPuKfT4-HSve",
        "outputId": "28949848-9240-4a7e-f991-b61310314079"
      },
      "outputs": [
        {
          "output_type": "execute_result",
          "data": {
            "text/plain": [
              "np.int64(0)"
            ]
          },
          "metadata": {},
          "execution_count": 43
        }
      ],
      "source": [
        "#Kenya data\n",
        "kenya_data = df[\"Country\"] == \"Kenya\"\n",
        "kenya_data.sum()"
      ]
    },
    {
      "cell_type": "code",
      "execution_count": 44,
      "metadata": {
        "colab": {
          "base_uri": "https://localhost:8080/"
        },
        "id": "kDFqPbL3HS70",
        "outputId": "eec8ebe8-75d2-4ba2-dea4-79b1dddcf928"
      },
      "outputs": [
        {
          "output_type": "execute_result",
          "data": {
            "text/plain": [
              "np.int64(9)"
            ]
          },
          "metadata": {},
          "execution_count": 44
        }
      ],
      "source": [
        "#US data\n",
        "US_data = df[\"Country\"] == \"USA\"\n",
        "US_data.sum()"
      ]
    },
    {
      "cell_type": "code",
      "execution_count": 45,
      "metadata": {
        "colab": {
          "base_uri": "https://localhost:8080/"
        },
        "id": "3bnnXuBEHTBt",
        "outputId": "41bcbdc2-8433-47f6-b8dc-0159694d5ce9"
      },
      "outputs": [
        {
          "output_type": "execute_result",
          "data": {
            "text/plain": [
              "np.int64(20)"
            ]
          },
          "metadata": {},
          "execution_count": 45
        }
      ],
      "source": [
        "df.duplicated().sum()"
      ]
    },
    {
      "cell_type": "code",
      "execution_count": 46,
      "metadata": {
        "id": "4nlD-FevHTE8"
      },
      "outputs": [],
      "source": [
        "#remove duplicates\n",
        "df = df.drop_duplicates()"
      ]
    },
    {
      "cell_type": "code",
      "execution_count": 47,
      "metadata": {
        "colab": {
          "base_uri": "https://localhost:8080/"
        },
        "id": "M0N8sanhHTH0",
        "outputId": "cf39445f-813b-42f2-e42f-c63e79455a08"
      },
      "outputs": [
        {
          "output_type": "execute_result",
          "data": {
            "text/plain": [
              "np.int64(0)"
            ]
          },
          "metadata": {},
          "execution_count": 47
        }
      ],
      "source": [
        "df.duplicated().sum()"
      ]
    },
    {
      "cell_type": "markdown",
      "metadata": {
        "id": "oITsS7mbHl4t"
      },
      "source": [
        "#### Handling Missing Values\n"
      ]
    },
    {
      "cell_type": "code",
      "execution_count": 48,
      "metadata": {
        "id": "eQB_HpvcHTN8"
      },
      "outputs": [],
      "source": [
        " #Remove rows with missing text\n",
        "df = df.dropna(subset=[\"Text\"])\n"
      ]
    },
    {
      "cell_type": "markdown",
      "metadata": {
        "id": "TyMNxNacHrlX"
      },
      "source": [
        "#### Handling emojis"
      ]
    },
    {
      "cell_type": "code",
      "source": [
        "!pip install emoji"
      ],
      "metadata": {
        "colab": {
          "base_uri": "https://localhost:8080/"
        },
        "id": "9RgcxCMjVj0G",
        "outputId": "09d92f27-f6b1-471f-c3ac-e00ea5659cfc"
      },
      "execution_count": 49,
      "outputs": [
        {
          "output_type": "stream",
          "name": "stdout",
          "text": [
            "Requirement already satisfied: emoji in /usr/local/lib/python3.11/dist-packages (2.14.1)\n"
          ]
        }
      ]
    },
    {
      "cell_type": "code",
      "source": [],
      "metadata": {
        "id": "aI4dOtoFVjx2"
      },
      "execution_count": 49,
      "outputs": []
    },
    {
      "cell_type": "code",
      "execution_count": 50,
      "metadata": {
        "colab": {
          "base_uri": "https://localhost:8080/"
        },
        "id": "uHwcJaSVHtuK",
        "outputId": "b327caaf-8933-4881-f4d2-e18a43be99ad"
      },
      "outputs": [
        {
          "output_type": "stream",
          "name": "stdout",
          "text": [
            "Before Emoji Conversion:\n",
            " Just finished an amazing workout! 💪               \n"
          ]
        }
      ],
      "source": [
        "# Print the original text in the 3rd row\n",
        "print(\"Before Emoji Conversion:\")\n",
        "print(df[\"Text\"].iloc[2])"
      ]
    },
    {
      "cell_type": "code",
      "execution_count": 51,
      "metadata": {
        "id": "Yauhy1z-Htkn"
      },
      "outputs": [],
      "source": [
        "import emoji\n",
        "\n",
        "def convert_emojis(text):\n",
        "    return emoji.demojize(text).replace(\":\",\"\")\n",
        "df[\"Text\"] = df[\"Text\"].apply(convert_emojis)"
      ]
    },
    {
      "cell_type": "code",
      "execution_count": 52,
      "metadata": {
        "colab": {
          "base_uri": "https://localhost:8080/"
        },
        "id": "Y3ZRvnlDHtbg",
        "outputId": "30c9c896-74a8-4626-eea3-ff392323c6c0"
      },
      "outputs": [
        {
          "output_type": "stream",
          "name": "stdout",
          "text": [
            "After Emoji Conversion:\n",
            " Just finished an amazing workout! flexed_biceps               \n"
          ]
        }
      ],
      "source": [
        "# Print the text in the 3rd row after emoji removal\n",
        "print(\"After Emoji Conversion:\")\n",
        "print(df[\"Text\"].iloc[2])"
      ]
    },
    {
      "cell_type": "markdown",
      "metadata": {
        "id": "6hEZVqcQH2tl"
      },
      "source": [
        "### Handling Stopwords"
      ]
    },
    {
      "cell_type": "markdown",
      "metadata": {
        "id": "ypgtu4ZsH2rZ"
      },
      "source": []
    },
    {
      "cell_type": "code",
      "source": [
        "from nltk.tokenize import TreebankWordTokenizer\n",
        "from nltk.corpus import stopwords\n",
        "\n",
        "# Initialize tokenizer and stopwords\n",
        "tokenizer = TreebankWordTokenizer()\n",
        "stop_words = set(stopwords.words(\"english\"))\n",
        "\n",
        "# Function to tokenize and remove stopwords\n",
        "def remove_stopwords(text):\n",
        "    tokens = tokenizer.tokenize(text)  # Tokenize\n",
        "    filtered_tokens = [word for word in tokens if word.lower() not in stop_words]  # Remove stopwords\n",
        "    return \" \".join(filtered_tokens)  # Return cleaned text\n",
        "\n",
        "# Example\n",
        "text = \"Hello world! This is a test.\"\n",
        "clean_text = remove_stopwords(text)\n",
        "print(clean_text)  # Output: \"Hello world ! test .\""
      ],
      "metadata": {
        "colab": {
          "base_uri": "https://localhost:8080/"
        },
        "id": "m233-F20R7ab",
        "outputId": "8eb12146-d1ae-46f1-be55-ceae0af7a08a"
      },
      "execution_count": 53,
      "outputs": [
        {
          "output_type": "stream",
          "name": "stdout",
          "text": [
            "Hello world ! test .\n"
          ]
        }
      ]
    },
    {
      "cell_type": "code",
      "execution_count": 54,
      "metadata": {
        "id": "P_Tz-IkjMErz"
      },
      "outputs": [],
      "source": [
        "df[\"Text\"] = df[\"Text\"].apply(remove_stopwords)"
      ]
    },
    {
      "cell_type": "code",
      "source": [
        "# Print the text in the 3rd row after stopwords\n",
        "print(\"After stopwords removal:\")\n",
        "print(df[\"Text\"].iloc[2])"
      ],
      "metadata": {
        "id": "IL-JcRq2RkfA",
        "colab": {
          "base_uri": "https://localhost:8080/"
        },
        "outputId": "b7614d5b-a0e0-49ab-b97d-3e5ce7c5e100"
      },
      "execution_count": 55,
      "outputs": [
        {
          "output_type": "stream",
          "name": "stdout",
          "text": [
            "After stopwords removal:\n",
            "finished amazing workout ! flexed_biceps\n"
          ]
        }
      ]
    },
    {
      "cell_type": "markdown",
      "metadata": {
        "id": "XX9uMwRdIPIl"
      },
      "source": [
        "#### Sentimental analysis using VADER (Valence Aware Dictionary and sEntiment Reasoner)"
      ]
    },
    {
      "cell_type": "code",
      "execution_count": 56,
      "metadata": {
        "colab": {
          "base_uri": "https://localhost:8080/"
        },
        "id": "1k7If-QXH8ys",
        "outputId": "646cf658-6149-49ff-dc0e-6376d13ff089"
      },
      "outputs": [
        {
          "output_type": "stream",
          "name": "stderr",
          "text": [
            "[nltk_data] Downloading package vader_lexicon to /root/nltk_data...\n",
            "[nltk_data]   Package vader_lexicon is already up-to-date!\n"
          ]
        }
      ],
      "source": [
        "from nltk.sentiment import SentimentIntensityAnalyzer\n",
        "import nltk\n",
        "\n",
        "#download VADER lexicon\n",
        "nltk.download('vader_lexicon')\n",
        "\n",
        "#Initialize Analyzer\n",
        "sia = SentimentIntensityAnalyzer()\n",
        "\n",
        "#function to get sentiment\n",
        "def get_vader_sentiment(text):\n",
        "    score = sia.polarity_scores(text)[\"compound\"]\n",
        "    if score > 0.05:\n",
        "        return 'Positive'\n",
        "    if score < 0.05:\n",
        "        return \"Negative\"\n",
        "    else:\n",
        "        return \"Neutral\"\n",
        "\n",
        "#apply on data\n",
        "df[\"Sentiment\"] = df[\"Text\"].apply(get_vader_sentiment)"
      ]
    },
    {
      "cell_type": "markdown",
      "metadata": {
        "id": "tEyY3XxyIXND"
      },
      "source": [
        "### Testing the SIA VADER SCORES"
      ]
    },
    {
      "cell_type": "code",
      "execution_count": 57,
      "metadata": {
        "id": "eIFpty2YH8up"
      },
      "outputs": [],
      "source": [
        "text1 = \"I love this product! It's amazing.\"\n",
        "text2 = \"This is the worst experience ever.\"\n",
        "text3 = \"It's an okay product.\""
      ]
    },
    {
      "cell_type": "code",
      "execution_count": 58,
      "metadata": {
        "id": "z9SZUdrHH8h4",
        "colab": {
          "base_uri": "https://localhost:8080/"
        },
        "outputId": "5ecfdc5e-eebf-422d-bc44-5b189d928055"
      },
      "outputs": [
        {
          "output_type": "stream",
          "name": "stdout",
          "text": [
            "The scores for text 1 are: {'neg': 0.0, 'neu': 0.266, 'pos': 0.734, 'compound': 0.8516}\n",
            "The scores for text 2 are: {'neg': 0.451, 'neu': 0.549, 'pos': 0.0, 'compound': -0.6249}\n",
            "The scores for text 3 are: {'neg': 0.0, 'neu': 0.612, 'pos': 0.388, 'compound': 0.2263}\n"
          ]
        }
      ],
      "source": [
        "print(f\"The scores for text 1 are: {sia.polarity_scores(text1)}\\n\"\n",
        "      f\"The scores for text 2 are: {sia.polarity_scores(text2)}\\n\"\n",
        "      f\"The scores for text 3 are: {sia.polarity_scores(text3)}\")"
      ]
    },
    {
      "cell_type": "markdown",
      "metadata": {
        "id": "vzGoooe0Ifc-"
      },
      "source": [
        "### Testing for Text column in the data"
      ]
    },
    {
      "cell_type": "code",
      "execution_count": 59,
      "metadata": {
        "id": "ASg4ACPFH8f6"
      },
      "outputs": [],
      "source": [
        "df[\"Sentiment_Scores\"] = df[\"Text\"].apply(lambda text: sia.polarity_scores(text))"
      ]
    },
    {
      "cell_type": "code",
      "execution_count": 60,
      "metadata": {
        "id": "3bQchP1eIj_F",
        "colab": {
          "base_uri": "https://localhost:8080/"
        },
        "outputId": "b4c7bd07-24a4-46a0-80e1-ea7db41d6a2c"
      },
      "outputs": [
        {
          "output_type": "stream",
          "name": "stdout",
          "text": [
            "Text 1 Sentiment Scores: {'neg': 0.0, 'neu': 0.209, 'pos': 0.791, 'compound': 0.8221}\n",
            "Text 2 Sentiment Scores: {'neg': 0.608, 'neu': 0.392, 'pos': 0.0, 'compound': -0.4767}\n",
            "Text 3 Sentiment Scores: {'neg': 0.0, 'neu': 0.423, 'pos': 0.577, 'compound': 0.6239}\n",
            "Text 4 Sentiment Scores: {'neg': 0.0, 'neu': 0.527, 'pos': 0.473, 'compound': 0.4003}\n",
            "Text 5 Sentiment Scores: {'neg': 0.0, 'neu': 1.0, 'pos': 0.0, 'compound': 0.0}\n"
          ]
        }
      ],
      "source": [
        "for i, text in enumerate(df[\"Text\"].head()):  # Limits to first 5 rows\n",
        "    print(f\"Text {i+1} Sentiment Scores: {sia.polarity_scores(text)}\")"
      ]
    },
    {
      "cell_type": "markdown",
      "metadata": {
        "id": "6XcP99AUGT1n"
      },
      "source": []
    },
    {
      "cell_type": "code",
      "source": [
        "from google.colab import files\n",
        "\n",
        "# Save DataFrame as CSV\n",
        "df.to_csv(\"cleaned_sentiment.csv\", index=False)"
      ],
      "metadata": {
        "id": "ZQ7JcNyzZIGp"
      },
      "execution_count": 61,
      "outputs": []
    },
    {
      "cell_type": "code",
      "source": [
        "# Download the preprocessed data\n",
        "files.download(\"cleaned_sentiment.csv\")"
      ],
      "metadata": {
        "colab": {
          "base_uri": "https://localhost:8080/",
          "height": 17
        },
        "id": "DpdynfzMZM0m",
        "outputId": "1cd5b977-caed-4800-a7fa-ceb9047ca95b"
      },
      "execution_count": 62,
      "outputs": [
        {
          "output_type": "display_data",
          "data": {
            "text/plain": [
              "<IPython.core.display.Javascript object>"
            ],
            "application/javascript": [
              "\n",
              "    async function download(id, filename, size) {\n",
              "      if (!google.colab.kernel.accessAllowed) {\n",
              "        return;\n",
              "      }\n",
              "      const div = document.createElement('div');\n",
              "      const label = document.createElement('label');\n",
              "      label.textContent = `Downloading \"${filename}\": `;\n",
              "      div.appendChild(label);\n",
              "      const progress = document.createElement('progress');\n",
              "      progress.max = size;\n",
              "      div.appendChild(progress);\n",
              "      document.body.appendChild(div);\n",
              "\n",
              "      const buffers = [];\n",
              "      let downloaded = 0;\n",
              "\n",
              "      const channel = await google.colab.kernel.comms.open(id);\n",
              "      // Send a message to notify the kernel that we're ready.\n",
              "      channel.send({})\n",
              "\n",
              "      for await (const message of channel.messages) {\n",
              "        // Send a message to notify the kernel that we're ready.\n",
              "        channel.send({})\n",
              "        if (message.buffers) {\n",
              "          for (const buffer of message.buffers) {\n",
              "            buffers.push(buffer);\n",
              "            downloaded += buffer.byteLength;\n",
              "            progress.value = downloaded;\n",
              "          }\n",
              "        }\n",
              "      }\n",
              "      const blob = new Blob(buffers, {type: 'application/binary'});\n",
              "      const a = document.createElement('a');\n",
              "      a.href = window.URL.createObjectURL(blob);\n",
              "      a.download = filename;\n",
              "      div.appendChild(a);\n",
              "      a.click();\n",
              "      div.remove();\n",
              "    }\n",
              "  "
            ]
          },
          "metadata": {}
        },
        {
          "output_type": "display_data",
          "data": {
            "text/plain": [
              "<IPython.core.display.Javascript object>"
            ],
            "application/javascript": [
              "download(\"download_1b403b2c-6f37-400e-919f-bab31db6a374\", \"cleaned_sentiment.csv\", 188645)"
            ]
          },
          "metadata": {}
        }
      ]
    },
    {
      "cell_type": "code",
      "source": [],
      "metadata": {
        "id": "9V949loCZhiy"
      },
      "execution_count": 62,
      "outputs": []
    }
  ],
  "metadata": {
    "colab": {
      "provenance": []
    },
    "kernelspec": {
      "display_name": "Python 3",
      "name": "python3"
    },
    "language_info": {
      "name": "python"
    }
  },
  "nbformat": 4,
  "nbformat_minor": 0
}